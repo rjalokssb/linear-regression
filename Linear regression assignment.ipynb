{
  "nbformat": 4,
  "nbformat_minor": 0,
  "metadata": {
    "colab": {
      "provenance": []
    },
    "kernelspec": {
      "name": "python3",
      "display_name": "Python 3"
    },
    "language_info": {
      "name": "python"
    }
  },
  "cells": [
    {
      "cell_type": "markdown",
      "source": [
        "### Q1. Explain the difference between simple linear regression and multiple linear regression. Provide an\n",
        "example of each.\n",
        "\n"
      ],
      "metadata": {
        "id": "y4Pwr-pRazxC"
      }
    },
    {
      "cell_type": "code",
      "source": [
        "#Ans.  \n",
        "1.   In simple linear regression we have 1 dependent variable & 1 independent variable.(Ex: relation between salary & experience).\n",
        "2.   In multiple linear regression we have 1 dependent variable and 2 or more independent variable.(realationship between house price and location, city,etc.)"
      ],
      "metadata": {
        "id": "ExphaebjWX0L"
      },
      "execution_count": null,
      "outputs": []
    },
    {
      "cell_type": "markdown",
      "source": [
        "### Q2. Discuss the assumptions of linear regression. How can you check whether these assumptions hold in\n",
        "\n",
        "\n"
      ],
      "metadata": {
        "id": "zKraVZv3a_qO"
      }
    },
    {
      "cell_type": "code",
      "source": [
        "# \n",
        "1.   linear relationship between independent variable and dependant vaiable.\n",
        "\n",
        "1.   no relationship between independent vaiable\n",
        "\n",
        "1.   Residual Errors have a mean value of zero\n",
        "2.   Residual Errors have constant variance\n",
        "\n",
        "2.   Residual Errors are independent from each other and predictors.\n",
        "\n",
        "we can check this  Skewness and Kurtosis, Q-Q plot"
      ],
      "metadata": {
        "id": "hlxAq-EdWb5S"
      },
      "execution_count": null,
      "outputs": []
    },
    {
      "cell_type": "markdown",
      "source": [
        "### Q3. How do you interpret the slope and intercept in a linear regression model? Provide an example using a real-world scenario."
      ],
      "metadata": {
        "id": "4pU0fuzAoOsG"
      }
    },
    {
      "cell_type": "code",
      "source": [
        "# Slope - it define how much dependent variable change when we change our independent variable.\n",
        "# intercept - intercept refers to variable that shifts the constant term.\n",
        "# Expample - in expreience vs salary graph, the minimum salary is work as intercept and connection between variable is slope."
      ],
      "metadata": {
        "id": "q1DXRx6Te9E0"
      },
      "execution_count": null,
      "outputs": []
    },
    {
      "cell_type": "markdown",
      "source": [
        "### Q4. Explain the concept of gradient descent. How is it used in machine learning?"
      ],
      "metadata": {
        "id": "H1jvJcs3oRt1"
      }
    },
    {
      "cell_type": "code",
      "source": [
        "#  the gradient simply measures the change in all weights with regard to the change in error.\n",
        "# Gradient descent is used to find the minimum value of a cost function."
      ],
      "metadata": {
        "id": "cHJTIm4soUlt"
      },
      "execution_count": null,
      "outputs": []
    },
    {
      "cell_type": "markdown",
      "source": [
        "### Q5. Describe the multiple linear regression model. How does it differ from simple linear regression?"
      ],
      "metadata": {
        "id": "i00QQXTeoVFN"
      }
    },
    {
      "cell_type": "code",
      "source": [
        "# Multiple linear regression is a statistical model used to establish the relationship between a dependent variable and multiple independent variables.\n",
        "# simple linear regression involves only one independent variable, while multiple linear regression involves two or more independent variables."
      ],
      "metadata": {
        "id": "TrYlxBntoY8B"
      },
      "execution_count": null,
      "outputs": []
    },
    {
      "cell_type": "markdown",
      "source": [
        "### Q6. Explain the concept of multicollinearity in multiple linear regression. How can you detect and address this issue?"
      ],
      "metadata": {
        "id": "7HuVPbQsoZUl"
      }
    },
    {
      "cell_type": "code",
      "source": [
        "# Multicollinearity is a phenomenon that occurs in multiple linear regression when two or more independent variables in the model are highly correlated with each other. \n",
        "# detect - Correlation matrix, Eigenvalues and condition number\n",
        "# adress this issue - Remove one or more independent variables, Using regularization techniques, Principal Component Analysis "
      ],
      "metadata": {
        "id": "6FkEbPIcodd9"
      },
      "execution_count": null,
      "outputs": []
    },
    {
      "cell_type": "markdown",
      "source": [
        "### Q7. Describe the polynomial regression model. How is it different from linear regression?"
      ],
      "metadata": {
        "id": "6HRnmv0voeaf"
      }
    },
    {
      "cell_type": "code",
      "source": [
        "# Polynomial regression, on the other hand, models the relationship between the dependent variable and the independent variable(s) using a polynomial function of a certain degree. It allows for the modeling of curved relationships between variables that cannot be captured by a simple straight line."
      ],
      "metadata": {
        "id": "zn-_uEb0og81"
      },
      "execution_count": null,
      "outputs": []
    },
    {
      "cell_type": "markdown",
      "source": [
        "### Q8. What are the advantages and disadvantages of polynomial regression compared to linear regression? In what situations would you prefer to use polynomial regression?"
      ],
      "metadata": {
        "id": "c3al20Dhohcm"
      }
    },
    {
      "cell_type": "code",
      "source": [
        "# Advantages of polynomial regression\n",
        "# It can model complex nonlinear relationships between variables\n",
        "# It can improve the accuracy of the model compared to a linear regression model.\n",
        "\n",
        "# Disadvantages of polynomial regression\n",
        "# It can be more computationally intensive \n",
        "# It can suffer from overfitting if the degree of the polynomial is too high\n",
        "# It requires more data points to achieve accurate results.\n",
        "\n",
        "# Situations where polynomial regression may be preferred over linear regression\n",
        "# When the relationship between the dependent and independent variables is nonlinear \n",
        "# When the data shows a curved pattern or a U-shaped or inverted U-shaped pattern\n",
        "# When the goal is to achieve higher accuracy in the model"
      ],
      "metadata": {
        "id": "SOLNLEa1olrV"
      },
      "execution_count": null,
      "outputs": []
    }
  ]
}